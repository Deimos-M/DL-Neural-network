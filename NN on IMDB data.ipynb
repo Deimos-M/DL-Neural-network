{
 "cells": [
  {
   "cell_type": "markdown",
   "metadata": {},
   "source": [
    "# IMDB dataset \n",
    "\n",
    "* It's a binary classification problem on movie reviews\n",
    "* A set of 50,000 highly polarized reviews from the Internet Movie Database. They’re split into 25,000 reviews for training and 25,000 reviews for testing, each set consisting of 50% negative and 50% positive reviews.\n",
    "\n",
    "* IMDB dataset comes packaged with Keras. It has already been preprocessed: the reviews (sequences of words) have been turned into sequences of integers(ranks based on frequence), where each integer stands for a specific word in a dictionary."
   ]
  },
  {
   "cell_type": "code",
   "execution_count": 1,
   "metadata": {},
   "outputs": [
    {
     "name": "stderr",
     "output_type": "stream",
     "text": [
      "C:\\Users\\vipul\\Anaconda3\\lib\\site-packages\\h5py\\__init__.py:34: FutureWarning: Conversion of the second argument of issubdtype from `float` to `np.floating` is deprecated. In future, it will be treated as `np.float64 == np.dtype(float).type`.\n",
      "  from ._conv import register_converters as _register_converters\n",
      "Using TensorFlow backend.\n"
     ]
    }
   ],
   "source": [
    "import numpy as np\n",
    "from keras.datasets import imdb\n",
    "from keras import models\n",
    "from keras import layers\n",
    "import matplotlib.pyplot as plt"
   ]
  },
  {
   "cell_type": "markdown",
   "metadata": {},
   "source": [
    "### 1.Loading the dataset"
   ]
  },
  {
   "cell_type": "code",
   "execution_count": 2,
   "metadata": {
    "collapsed": true
   },
   "outputs": [],
   "source": [
    "(train_data, train_labels), (test_data, test_labels) = imdb.load_data(num_words=15000)"
   ]
  },
  {
   "cell_type": "markdown",
   "metadata": {},
   "source": [
    "* The parameter **num_words=15000** means you’ll only keep the top 15,000 most frequently\n",
    " occurring words in the training data. Rare words will be discarded. This allows\n",
    " you to work with vector data of manageable size."
   ]
  },
  {
   "cell_type": "code",
   "execution_count": 3,
   "metadata": {},
   "outputs": [
    {
     "data": {
      "text/plain": [
       "[1,\n",
       " 14,\n",
       " 22,\n",
       " 16,\n",
       " 43,\n",
       " 530,\n",
       " 973,\n",
       " 1622,\n",
       " 1385,\n",
       " 65,\n",
       " 458,\n",
       " 4468,\n",
       " 66,\n",
       " 3941,\n",
       " 4,\n",
       " 173,\n",
       " 36,\n",
       " 256,\n",
       " 5,\n",
       " 25,\n",
       " 100,\n",
       " 43,\n",
       " 838,\n",
       " 112,\n",
       " 50,\n",
       " 670,\n",
       " 2,\n",
       " 9,\n",
       " 35,\n",
       " 480,\n",
       " 284,\n",
       " 5,\n",
       " 150,\n",
       " 4,\n",
       " 172,\n",
       " 112,\n",
       " 167,\n",
       " 2,\n",
       " 336,\n",
       " 385,\n",
       " 39,\n",
       " 4,\n",
       " 172,\n",
       " 4536,\n",
       " 1111,\n",
       " 17,\n",
       " 546,\n",
       " 38,\n",
       " 13,\n",
       " 447,\n",
       " 4,\n",
       " 192,\n",
       " 50,\n",
       " 16,\n",
       " 6,\n",
       " 147,\n",
       " 2025,\n",
       " 19,\n",
       " 14,\n",
       " 22,\n",
       " 4,\n",
       " 1920,\n",
       " 4613,\n",
       " 469,\n",
       " 4,\n",
       " 22,\n",
       " 71,\n",
       " 87,\n",
       " 12,\n",
       " 16,\n",
       " 43,\n",
       " 530,\n",
       " 38,\n",
       " 76,\n",
       " 15,\n",
       " 13,\n",
       " 1247,\n",
       " 4,\n",
       " 22,\n",
       " 17,\n",
       " 515,\n",
       " 17,\n",
       " 12,\n",
       " 16,\n",
       " 626,\n",
       " 18,\n",
       " 2,\n",
       " 5,\n",
       " 62,\n",
       " 386,\n",
       " 12,\n",
       " 8,\n",
       " 316,\n",
       " 8,\n",
       " 106,\n",
       " 5,\n",
       " 4,\n",
       " 2223,\n",
       " 5244,\n",
       " 16,\n",
       " 480,\n",
       " 66,\n",
       " 3785,\n",
       " 33,\n",
       " 4,\n",
       " 130,\n",
       " 12,\n",
       " 16,\n",
       " 38,\n",
       " 619,\n",
       " 5,\n",
       " 25,\n",
       " 124,\n",
       " 51,\n",
       " 36,\n",
       " 135,\n",
       " 48,\n",
       " 25,\n",
       " 1415,\n",
       " 33,\n",
       " 6,\n",
       " 22,\n",
       " 12,\n",
       " 215,\n",
       " 28,\n",
       " 77,\n",
       " 52,\n",
       " 5,\n",
       " 14,\n",
       " 407,\n",
       " 16,\n",
       " 82,\n",
       " 10311,\n",
       " 8,\n",
       " 4,\n",
       " 107,\n",
       " 117,\n",
       " 5952,\n",
       " 15,\n",
       " 256,\n",
       " 4,\n",
       " 2,\n",
       " 7,\n",
       " 3766,\n",
       " 5,\n",
       " 723,\n",
       " 36,\n",
       " 71,\n",
       " 43,\n",
       " 530,\n",
       " 476,\n",
       " 26,\n",
       " 400,\n",
       " 317,\n",
       " 46,\n",
       " 7,\n",
       " 4,\n",
       " 12118,\n",
       " 1029,\n",
       " 13,\n",
       " 104,\n",
       " 88,\n",
       " 4,\n",
       " 381,\n",
       " 15,\n",
       " 297,\n",
       " 98,\n",
       " 32,\n",
       " 2071,\n",
       " 56,\n",
       " 26,\n",
       " 141,\n",
       " 6,\n",
       " 194,\n",
       " 7486,\n",
       " 18,\n",
       " 4,\n",
       " 226,\n",
       " 22,\n",
       " 21,\n",
       " 134,\n",
       " 476,\n",
       " 26,\n",
       " 480,\n",
       " 5,\n",
       " 144,\n",
       " 30,\n",
       " 5535,\n",
       " 18,\n",
       " 51,\n",
       " 36,\n",
       " 28,\n",
       " 224,\n",
       " 92,\n",
       " 25,\n",
       " 104,\n",
       " 4,\n",
       " 226,\n",
       " 65,\n",
       " 16,\n",
       " 38,\n",
       " 1334,\n",
       " 88,\n",
       " 12,\n",
       " 16,\n",
       " 283,\n",
       " 5,\n",
       " 16,\n",
       " 4472,\n",
       " 113,\n",
       " 103,\n",
       " 32,\n",
       " 15,\n",
       " 16,\n",
       " 5345,\n",
       " 19,\n",
       " 178,\n",
       " 32]"
      ]
     },
     "execution_count": 3,
     "metadata": {},
     "output_type": "execute_result"
    }
   ],
   "source": [
    "train_data[0] #the train data is already preprocessed , that mean we only have the rank of the words based on frequency."
   ]
  },
  {
   "cell_type": "markdown",
   "metadata": {
    "collapsed": true
   },
   "source": [
    "### 2.Data preparation\n",
    "* You can’t feed lists of integers into a neural network. You have to turn your lists into tensors.We use One-hot encoding to convert the reviews into vectors of 0s and 1s."
   ]
  },
  {
   "cell_type": "code",
   "execution_count": 4,
   "metadata": {
    "collapsed": true
   },
   "outputs": [],
   "source": [
    "def vectorizer(sequences, dimension=15000):\n",
    "    # Creates an all-zero matrix of shape (len(sequences), dimension)\n",
    "    results = np.zeros((len(sequences), dimension))\n",
    "    for i, sequence in enumerate(sequences):\n",
    "        results[i, sequence] = 1.\n",
    "    return results"
   ]
  },
  {
   "cell_type": "code",
   "execution_count": 5,
   "metadata": {
    "collapsed": true
   },
   "outputs": [],
   "source": [
    "x_train = vectorizer(train_data) # Vectorize training data\n",
    "x_test = vectorizer(test_data) # Vectorize test data"
   ]
  },
  {
   "cell_type": "code",
   "execution_count": 6,
   "metadata": {
    "collapsed": true
   },
   "outputs": [],
   "source": [
    "#vectorizing the labels \n",
    "y_train = np.asarray(train_labels).astype('float32')\n",
    "y_test = np.asarray(test_labels).astype('float32')"
   ]
  },
  {
   "cell_type": "markdown",
   "metadata": {},
   "source": [
    "### 3.Building the model"
   ]
  },
  {
   "cell_type": "code",
   "execution_count": 19,
   "metadata": {
    "collapsed": true
   },
   "outputs": [],
   "source": [
    "model=models.Sequential()\n",
    "model.add(layers.Dense(64,activation='relu',input_shape=(15000,)))\n",
    "model.add(layers.Dense(32,activation='relu'))\n",
    "model.add(layers.Dense(1,activation='tanh'))"
   ]
  },
  {
   "cell_type": "code",
   "execution_count": 25,
   "metadata": {
    "collapsed": true
   },
   "outputs": [],
   "source": [
    "model.compile(optimizer='adam',loss='binary_crossentropy',metrics=['accuracy'])"
   ]
  },
  {
   "cell_type": "code",
   "execution_count": 26,
   "metadata": {
    "collapsed": true
   },
   "outputs": [],
   "source": [
    "# create a validation set by setting apart 10,000 samples from the original training data.\n",
    "x_val = x_train[:15000]\n",
    "partial_x_train = x_train[15000:]\n",
    "\n",
    "y_val = y_train[:15000]\n",
    "partial_y_train = y_train[15000:]"
   ]
  },
  {
   "cell_type": "code",
   "execution_count": 27,
   "metadata": {},
   "outputs": [
    {
     "name": "stdout",
     "output_type": "stream",
     "text": [
      "Train on 10000 samples, validate on 15000 samples\n",
      "Epoch 1/20\n",
      "10000/10000 [==============================] - 10s 972us/step - loss: 0.7668 - acc: 0.6109 - val_loss: 0.5013 - val_acc: 0.7859\n",
      "Epoch 2/20\n",
      "10000/10000 [==============================] - 4s 444us/step - loss: 0.3378 - acc: 0.8921 - val_loss: 0.3557 - val_acc: 0.8695\n",
      "Epoch 3/20\n",
      "10000/10000 [==============================] - 4s 420us/step - loss: 0.1883 - acc: 0.9414 - val_loss: 0.3429 - val_acc: 0.8781\n",
      "Epoch 4/20\n",
      "10000/10000 [==============================] - 4s 424us/step - loss: 0.1146 - acc: 0.9632 - val_loss: 0.4149 - val_acc: 0.8677\n",
      "Epoch 5/20\n",
      "10000/10000 [==============================] - 4s 440us/step - loss: 0.0709 - acc: 0.9501 - val_loss: 0.4558 - val_acc: 0.8346\n",
      "Epoch 6/20\n",
      "10000/10000 [==============================] - 4s 426us/step - loss: 0.0451 - acc: 0.9099 - val_loss: 0.4675 - val_acc: 0.7976\n",
      "Epoch 7/20\n",
      "10000/10000 [==============================] - 4s 416us/step - loss: 0.0310 - acc: 0.8741 - val_loss: 0.5376 - val_acc: 0.7493\n",
      "Epoch 8/20\n",
      "10000/10000 [==============================] - 4s 413us/step - loss: 0.0238 - acc: 0.8278 - val_loss: 0.5255 - val_acc: 0.7277\n",
      "Epoch 9/20\n",
      "10000/10000 [==============================] - 4s 420us/step - loss: 0.0190 - acc: 0.7803 - val_loss: 0.5997 - val_acc: 0.6670\n",
      "Epoch 10/20\n",
      "10000/10000 [==============================] - 5s 488us/step - loss: 0.0159 - acc: 0.7199 - val_loss: 0.6095 - val_acc: 0.6466\n",
      "Epoch 11/20\n",
      "10000/10000 [==============================] - 4s 443us/step - loss: 0.0140 - acc: 0.6897 - val_loss: 0.6483 - val_acc: 0.6211\n",
      "Epoch 12/20\n",
      "10000/10000 [==============================] - 5s 480us/step - loss: 0.0129 - acc: 0.6601 - val_loss: 0.6418 - val_acc: 0.6166\n",
      "Epoch 13/20\n",
      "10000/10000 [==============================] - 5s 465us/step - loss: 0.0120 - acc: 0.6441 - val_loss: 0.6738 - val_acc: 0.5998\n",
      "Epoch 14/20\n",
      "10000/10000 [==============================] - 5s 533us/step - loss: 0.0114 - acc: 0.6261 - val_loss: 0.6803 - val_acc: 0.5929\n",
      "Epoch 15/20\n",
      "10000/10000 [==============================] - 4s 446us/step - loss: 0.0107 - acc: 0.6182 - val_loss: 0.6914 - val_acc: 0.5871\n",
      "Epoch 16/20\n",
      "10000/10000 [==============================] - 4s 444us/step - loss: 0.0103 - acc: 0.6146 - val_loss: 0.6969 - val_acc: 0.5843\n",
      "Epoch 17/20\n",
      "10000/10000 [==============================] - 5s 473us/step - loss: 0.0100 - acc: 0.6040 - val_loss: 0.7226 - val_acc: 0.5727\n",
      "Epoch 18/20\n",
      "10000/10000 [==============================] - 4s 450us/step - loss: 0.0097 - acc: 0.5946 - val_loss: 0.7197 - val_acc: 0.5741\n",
      "Epoch 19/20\n",
      "10000/10000 [==============================] - 5s 478us/step - loss: 0.0096 - acc: 0.5911 - val_loss: 0.7363 - val_acc: 0.5711\n",
      "Epoch 20/20\n",
      "10000/10000 [==============================] - 5s 477us/step - loss: 0.0094 - acc: 0.5841 - val_loss: 0.7536 - val_acc: 0.5647\n"
     ]
    }
   ],
   "source": [
    "test_model = model.fit(partial_x_train,\n",
    "                    partial_y_train,\n",
    "                    epochs=20,\n",
    "                    batch_size=512,\n",
    "                    validation_data=(x_val, y_val))"
   ]
  },
  {
   "cell_type": "markdown",
   "metadata": {},
   "source": [
    "### 4. let's plot."
   ]
  },
  {
   "cell_type": "code",
   "execution_count": 30,
   "metadata": {},
   "outputs": [
    {
     "data": {
      "text/plain": [
       "dict_keys(['val_loss', 'val_acc', 'loss', 'acc'])"
      ]
     },
     "execution_count": 30,
     "metadata": {},
     "output_type": "execute_result"
    }
   ],
   "source": [
    "history_dict = test_model.history\n",
    "history_dict.keys()"
   ]
  },
  {
   "cell_type": "code",
   "execution_count": 32,
   "metadata": {},
   "outputs": [
    {
     "data": {
      "image/png": "[encoded data removed]",
      "text/plain": [
       "<matplotlib.figure.Figure at 0x25d041385c0>"
      ]
     },
     "metadata": {},
     "output_type": "display_data"
    }
   ],
   "source": [
    "train_loss_values = history_dict['loss']\n",
    "val_loss_values = history_dict['val_loss']\n",
    "\n",
    "epochs = range(1, len(history_dict['acc']) + 1)\n",
    "\n",
    "plt.plot(epochs, train_loss_values, 'bo', label='Training loss')\n",
    "plt.plot(epochs, val_loss_values, 'b', label='Validation loss')\n",
    "plt.title('Training and validation loss')\n",
    "plt.xlabel('Epochs')\n",
    "plt.ylabel('Loss')\n",
    "plt.legend()\n",
    "plt.show()"
   ]
  },
  {
   "cell_type": "markdown",
   "metadata": {},
   "source": [
    "* as we can see the model give least loss when the no. of epochs are 3 after that it is overfitting."
   ]
  },
  {
   "cell_type": "markdown",
   "metadata": {},
   "source": [
    "### 5.final model"
   ]
  },
  {
   "cell_type": "code",
   "execution_count": 33,
   "metadata": {},
   "outputs": [
    {
     "name": "stdout",
     "output_type": "stream",
     "text": [
      "Epoch 1/3\n",
      "25000/25000 [==============================] - 6s 248us/step - loss: 0.7514 - acc: 0.7044\n",
      "Epoch 2/3\n",
      "25000/25000 [==============================] - 6s 245us/step - loss: 0.2836 - acc: 0.9056\n",
      "Epoch 3/3\n",
      "25000/25000 [==============================] - 5s 218us/step - loss: 0.2001 - acc: 0.9381\n",
      "25000/25000 [==============================] - 11s 448us/step\n"
     ]
    }
   ],
   "source": [
    "model = models.Sequential()\n",
    "model.add(layers.Dense(64, activation='relu', input_shape=(15000,)))\n",
    "model.add(layers.Dense(32, activation='relu'))\n",
    "model.add(layers.Dense(1, activation='tanh'))\n",
    "\n",
    "model.compile(optimizer='adam', loss='binary_crossentropy', metrics=['accuracy'])\n",
    "\n",
    "model.fit(x_train, y_train, epochs=3, batch_size=512)\n",
    "results = model.evaluate(x_test, y_test)"
   ]
  },
  {
   "cell_type": "code",
   "execution_count": 34,
   "metadata": {},
   "outputs": [
    {
     "data": {
      "text/plain": [
       "[0.48843979853630065, 0.8644]"
      ]
     },
     "execution_count": 34,
     "metadata": {},
     "output_type": "execute_result"
    }
   ],
   "source": [
    "results"
   ]
  },
  {
   "cell_type": "markdown",
   "metadata": {},
   "source": [
    "* as you can see the bit difference between training acc(93%) and testing acc(86%) which means the model is bit overfitting but this is by far the best acc. i got , you can tune it more by changing hyperparameters."
   ]
  },
  {
   "cell_type": "markdown",
   "metadata": {},
   "source": [
    "### 6. Prediction on test data\n",
    "After having trained a network, you’ll want to use it in a practical setting. You can generate the likelihood of reviews being positive by using the predict method:"
   ]
  },
  {
   "cell_type": "code",
   "execution_count": 35,
   "metadata": {},
   "outputs": [
    {
     "data": {
      "text/plain": [
       "array([[0.43963727],\n",
       "       [0.99779546],\n",
       "       [0.3725262 ],\n",
       "       ...,\n",
       "       [0.12591572],\n",
       "       [0.01595698],\n",
       "       [0.87717104]], dtype=float32)"
      ]
     },
     "execution_count": 35,
     "metadata": {},
     "output_type": "execute_result"
    }
   ],
   "source": [
    "model.predict(x_test)"
   ]
  },
  {
   "cell_type": "markdown",
   "metadata": {},
   "source": [
    "* As you can see, the network is confident for some samples (0.99 or 0.01 or less) but less confident for others (0.43, etc.)\n",
    "* which means the prob. of this review belonging to class 1 is 44% ,class 2 is 99% and class 3 is 37% , therefore this reviews is of class 2. "
   ]
  },
  {
   "cell_type": "code",
   "execution_count": null,
   "metadata": {
    "collapsed": true
   },
   "outputs": [],
   "source": []
  }
 ],
 "metadata": {
  "kernelspec": {
   "display_name": "Python 3",
   "language": "python",
   "name": "python3"
  },
  "language_info": {
   "codemirror_mode": {
    "name": "ipython",
    "version": 3
   },
   "file_extension": ".py",
   "mimetype": "text/x-python",
   "name": "python",
   "nbconvert_exporter": "python",
   "pygments_lexer": "ipython3",
   "version": "3.6.3"
  }
 },
 "nbformat": 4,
 "nbformat_minor": 2
}
